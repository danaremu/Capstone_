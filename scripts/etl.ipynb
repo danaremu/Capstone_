{
 "cells": [
  {
   "cell_type": "code",
   "execution_count": 5,
   "id": "192b5ce1",
   "metadata": {},
   "outputs": [],
   "source": [
    "import pandas as pd\n",
    "import numpy as np\n",
    "import os\n",
    "from sqlalchemy import create_engine\n",
    "import asyncio\n",
    "\n",
    "\n",
    "# import requests\n",
    "# import json\n",
    "# import time\n",
    "# import uuid\n",
    "# import random\n",
    "# from datetime import datetime, timedelta"
   ]
  },
  {
   "cell_type": "code",
   "execution_count": 2,
   "id": "055acaa4",
   "metadata": {},
   "outputs": [],
   "source": [
    "# Global variables\n",
    "data = {}\n",
    "data_names = []\n",
    "non_file = []\n",
    "base_folder = \"./../pseudo_data\""
   ]
  },
  {
   "cell_type": "code",
   "execution_count": 11,
   "id": "71016d66",
   "metadata": {},
   "outputs": [],
   "source": [
    "def isFile(path):\n",
    "    global non_file\n",
    "    if os.path.isfile(path):\n",
    "        return True\n",
    "    else:\n",
    "        non_file.append(path)\n",
    "        return False\n",
    "\n",
    "def getAllFilesInDirectory(directory):\n",
    "    \"\"\"\n",
    "    Get all files in a directory.\n",
    "    \"\"\"\n",
    "    global non_file\n",
    "    data = [os.path.join(directory + \"/\", f) for f in os.listdir(directory) if isFile(os.path.join(directory + \"/\", f))]\n",
    "\n",
    "    while len(non_file) > 0:\n",
    "        data.extend(getAllFilesInDirectory(non_file.pop(0)))\n",
    "\n",
    "    return data\n",
    "\n",
    "\n",
    "# Get data from files\n",
    "def getDataFromFile(files):\n",
    "    \"\"\"\n",
    "    Get data from a file.\n",
    "    \"\"\"\n",
    "    # global data_names, data\n",
    "    data_names_, data_ = [], {}\n",
    "\n",
    "    def getDataFromFile_(file):\n",
    "        if file.endswith(\".csv\"):\n",
    "            return pd.read_csv(file)\n",
    "        elif file.endswith(\".json\"):\n",
    "            return pd.read_json(file)\n",
    "        elif file.endswith(\".xlsx\"):\n",
    "            return pd.read_excel(file)\n",
    "        else:\n",
    "            raise ValueError(\"Unsupported file format\")\n",
    "\n",
    "    for file in files:\n",
    "        nom = file[file.rfind(\"/\")+1:-4]\n",
    "        data_names_.append(nom)\n",
    "        print(f\"Loading {nom}   ---   {file}\")\n",
    "        data_[nom] = getDataFromFile_(file)\n",
    "        # time.sleep(5)\n",
    "        \n",
    "    print(\"Data loaded successfully\")\n",
    "    # print(data[data_names_[0]].head(5))\n",
    "    return (data_names_, data_)\n",
    "    \n",
    "    # return data[data_names[0]].info(), data[data_names[0]].head(), data[data_names[0]].describe(), data[data_names[0]].isnull().sum(), data[data_names[0]].dtypes, data[data_names[0]].columns, data[data_names[0]].shape, data[data_names[0]].nunique(), data[data_names[0]].duplicated().sum(), data[data_names[0]].sample(5), data[data_names[0]].sample(5).to_dict(), data[data_names[0]].sample(5).to_json()\n",
    "    # return data[data_names[0]].info(), data[data_names[0]].describe(), data[data_names[0]].isnull().sum(), data[data_names[0]].dtypes, data[data_names[0]].columns, data[data_names[0]].shape, data[data_names[0]].nunique(), data[data_names[0]].duplicated().sum(), data[data_names[0]].sample(5), data[data_names[0]].sample(5).to_dict(), data[data_names[0]].sample(5).to_json()"
   ]
  },
  {
   "cell_type": "code",
   "execution_count": null,
   "id": "b6934db6",
   "metadata": {},
   "outputs": [
    {
     "name": "stdout",
     "output_type": "stream",
     "text": [
      "['./../pseudo_data/admins.csv', './../pseudo_data/analytics_cache.csv', './../pseudo_data/audit_logs.csv', './../pseudo_data/companies.csv', './../pseudo_data/inventory.csv', './../pseudo_data/items.csv', './../pseudo_data/permissions.csv', './../pseudo_data/sales.csv', './../pseudo_data/sale_items.csv', './../pseudo_data/stock_entries.csv', './../pseudo_data/system_roles.csv', './../pseudo_data/system_users.csv', './../pseudo_data/transaction_logs.csv', './../pseudo_data/users.csv', './../pseudo_data/user_roles.csv']\n"
     ]
    }
   ],
   "source": [
    "# Get all files in the directory\n",
    "files = getAllFilesInDirectory(base_folder)\n",
    "print(files)"
   ]
  },
  {
   "cell_type": "code",
   "execution_count": 12,
   "id": "4aef386a",
   "metadata": {},
   "outputs": [
    {
     "name": "stdout",
     "output_type": "stream",
     "text": [
      "Loading admins   ---   ./../pseudo_data/admins.csv\n",
      "Loading analytics_cache   ---   ./../pseudo_data/analytics_cache.csv\n",
      "Loading audit_logs   ---   ./../pseudo_data/audit_logs.csv\n",
      "Loading companies   ---   ./../pseudo_data/companies.csv\n",
      "Loading inventory   ---   ./../pseudo_data/inventory.csv\n",
      "Loading items   ---   ./../pseudo_data/items.csv\n",
      "Loading permissions   ---   ./../pseudo_data/permissions.csv\n",
      "Loading sales   ---   ./../pseudo_data/sales.csv\n",
      "Loading sale_items   ---   ./../pseudo_data/sale_items.csv\n",
      "Loading stock_entries   ---   ./../pseudo_data/stock_entries.csv\n",
      "Loading system_roles   ---   ./../pseudo_data/system_roles.csv\n",
      "Loading system_users   ---   ./../pseudo_data/system_users.csv\n",
      "Loading transaction_logs   ---   ./../pseudo_data/transaction_logs.csv\n",
      "Loading users   ---   ./../pseudo_data/users.csv\n",
      "Loading user_roles   ---   ./../pseudo_data/user_roles.csv\n",
      "Data loaded successfully\n",
      "['admins', 'analytics_cache', 'audit_logs', 'companies', 'inventory', 'items', 'permissions', 'sales', 'sale_items', 'stock_entries', 'system_roles', 'system_users', 'transaction_logs', 'users', 'user_roles']\n"
     ]
    }
   ],
   "source": [
    "(data_names, data) = getDataFromFile(files)\n",
    "print(data_names)"
   ]
  },
  {
   "cell_type": "code",
   "execution_count": null,
   "id": "2370731a",
   "metadata": {},
   "outputs": [],
   "source": [
    "# engine = create_engine('sqlite:///example.db')\n",
    "# data[data_names[0]].to_sql(data_names[0], engine, if_exists='replace', index=False)"
   ]
  }
 ],
 "metadata": {
  "kernelspec": {
   "display_name": "Python 3",
   "language": "python",
   "name": "python3"
  },
  "language_info": {
   "codemirror_mode": {
    "name": "ipython",
    "version": 3
   },
   "file_extension": ".py",
   "mimetype": "text/x-python",
   "name": "python",
   "nbconvert_exporter": "python",
   "pygments_lexer": "ipython3",
   "version": "3.13.1"
  }
 },
 "nbformat": 4,
 "nbformat_minor": 5
}
